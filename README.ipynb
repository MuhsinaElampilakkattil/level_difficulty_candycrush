{
 "cells": [
  {
   "cell_type": "markdown",
   "metadata": {},
   "source": [
    "# Level Difficulty in Candy Crush Saga\n",
    "This is an analysis of data from the mobile game Candy Crush Saga developed by King (part of Activision|Blizzard) that is played by millions of people all around the world. \n",
    "In this [case study](https://www.datacamp.com/projects/139) the level of difficulty is estimated.\n",
    "\n",
    "[Link to project](https://github.com/emuhsina/level_difficulty_candycrush/blob/master/notebook.ipynb)"
   ]
  }
 ],
 "metadata": {
  "kernelspec": {
   "display_name": "R",
   "language": "R",
   "name": "ir"
  },
  "language_info": {
   "codemirror_mode": "r",
   "file_extension": ".r",
   "mimetype": "text/x-r-source",
   "name": "R",
   "pygments_lexer": "r",
   "version": "3.4.3"
  }
 },
 "nbformat": 4,
 "nbformat_minor": 2
}
